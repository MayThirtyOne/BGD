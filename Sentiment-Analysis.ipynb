{
 "cells": [
  {
   "cell_type": "code",
   "execution_count": 134,
   "metadata": {},
   "outputs": [],
   "source": [
    "import sys,tweepy,csv,re\n",
    "from textblob import TextBlob\n",
    "import matplotlib.pyplot as plt\n"
   ]
  },
  {
   "cell_type": "code",
   "execution_count": 135,
   "metadata": {},
   "outputs": [],
   "source": [
    "consumerKey = ''\n",
    "consumerSecret = ''\n",
    "accessToken = ''\n",
    "accessTokenSecret = ''\n",
    "auth = tweepy.OAuthHandler(consumerKey, consumerSecret)\n",
    "auth.set_access_token(accessToken, accessTokenSecret)\n",
    "api = tweepy.API(auth)"
   ]
  },
  {
   "cell_type": "code",
   "execution_count": 136,
   "metadata": {},
   "outputs": [],
   "source": [
    "searchTerm = '#BycottBollywood'\n",
    "NoOfTerms = 50"
   ]
  },
  {
   "cell_type": "code",
   "execution_count": 137,
   "metadata": {},
   "outputs": [],
   "source": [
    "tweets = tweepy.Cursor(api.search, q=searchTerm, lang = \"en\").items(NoOfTerms)"
   ]
  },
  {
   "cell_type": "code",
   "execution_count": 138,
   "metadata": {},
   "outputs": [
    {
     "name": "stdout",
     "output_type": "stream",
     "text": [
      "<tweepy.cursor.ItemIterator object at 0x0000021C0D1DA8B0>\n"
     ]
    }
   ],
   "source": [
    "print(tweets)"
   ]
  },
  {
   "cell_type": "code",
   "execution_count": 139,
   "metadata": {},
   "outputs": [],
   "source": [
    " def cleanTweet(tweet):\n",
    "    return ' '.join(re.sub(\"(@[A-Za-z0-9]+)|([^0-9A-Za-z \\t]) | (\\w +:\\ / \\ / \\S +)\", \" \", tweet).split())\n",
    "\n",
    "def remove_url(txt):\n",
    "    return \" \".join(re.sub(\"([^0-9A-Za-z \\t])|(\\w+:\\/\\/\\S+)\", \"\", txt).split())\n"
   ]
  },
  {
   "cell_type": "code",
   "execution_count": 140,
   "metadata": {},
   "outputs": [],
   "source": [
    "polarity = 0\n",
    "positive = 0\n",
    "wpositive = 0\n",
    "spositive = 0\n",
    "negative = 0\n",
    "wnegative = 0\n",
    "snegative = 0\n",
    "neutral = 0"
   ]
  },
  {
   "cell_type": "code",
   "execution_count": 141,
   "metadata": {},
   "outputs": [],
   "source": [
    " def percentage(part, whole):\n",
    "    temp = 100 * float(part) / float(whole)\n",
    "    return format(temp, '.2f')"
   ]
  },
  {
   "cell_type": "code",
   "execution_count": 142,
   "metadata": {},
   "outputs": [],
   "source": [
    "def plotPieChart(positive, wpositive, spositive, negative, wnegative, snegative, neutral, searchTerm, noOfSearchTerms):\n",
    "    labels = ['Positive [' + str(positive) + '%]', 'Weakly Positive [' + str(wpositive) + '%]','Strongly Positive [' + str(spositive) + '%]', 'Neutral [' + str(neutral) + '%]',\n",
    "              'Negative [' + str(negative) + '%]', 'Weakly Negative [' + str(wnegative) + '%]', 'Strongly Negative [' + str(snegative) + '%]']\n",
    "    sizes = [positive, wpositive, spositive, neutral, negative, wnegative, snegative]\n",
    "    colors = ['yellowgreen','lightgreen','darkgreen', 'gold', 'red','lightsalmon','darkred']\n",
    "    patches, texts = plt.pie(sizes, colors=colors, startangle=90)\n",
    "    plt.legend(patches, labels, loc=\"best\")\n",
    "    plt.title('How people are reacting on ' + searchTerm + ' by analyzing ' + str(noOfSearchTerms) + ' Tweets.')\n",
    "    plt.axis('equal')\n",
    "    plt.tight_layout()\n",
    "    plt.show()"
   ]
  },
  {
   "cell_type": "code",
   "execution_count": 143,
   "metadata": {},
   "outputs": [
    {
     "name": "stdout",
     "output_type": "stream",
     "text": [
      "RT Why was Gulshan Kumar Silenced Because he was stopping the islamization of Bollywood bycottbollywood\n",
      "Sentiment(polarity=0.0, subjectivity=0.0)\n",
      "SSagar True Solution is within reach amp easily doable bt the people themselves bycottbollywood\n",
      "Sentiment(polarity=0.39166666666666666, subjectivity=0.7416666666666667)\n",
      "RT Why was Gulshan Kumar Silenced Because he was stopping the islamization of Bollywood bycottbollywood\n",
      "Sentiment(polarity=0.0, subjectivity=0.0)\n",
      "RT Why was Gulshan Kumar Silenced Because he was stopping the islamization of Bollywood bycottbollywood\n",
      "Sentiment(polarity=0.0, subjectivity=0.0)\n",
      "RT He will be baggers there only we have lot of respect to him but sorry no more SSR need to scarified himse\n",
      "Sentiment(polarity=-0.25, subjectivity=0.8333333333333334)\n",
      "RT Why was Gulshan Kumar Silenced Because he was stopping the islamization of Bollywood bycottbollywood\n",
      "Sentiment(polarity=0.0, subjectivity=0.0)\n",
      "RT Why was Gulshan Kumar Silenced Because he was stopping the islamization of Bollywood bycottbollywood\n",
      "Sentiment(polarity=0.0, subjectivity=0.0)\n",
      "He will be baggers there only we have lot of respect to him but sorry no more SSR need to scarified hi\n",
      "Sentiment(polarity=-0.25, subjectivity=0.8333333333333334)\n",
      "RT Why was Gulshan Kumar Silenced Because he was stopping the islamization of Bollywood bycottbollywood\n",
      "Sentiment(polarity=0.0, subjectivity=0.0)\n",
      "RT Why was Gulshan Kumar Silenced Because he was stopping the islamization of Bollywood bycottbollywood\n",
      "Sentiment(polarity=0.0, subjectivity=0.0)\n",
      "Why was Gulshan Kumar Silenced Because he was stopping the islamization of Bollywood bycottbollywood\n",
      "Sentiment(polarity=0.0, subjectivity=0.0)\n",
      "RT Make records of dislikes for these hypocrites bycottbollywood BoycottCoolieNo1 boycottnepotism CoolieNo1\n",
      "Sentiment(polarity=0.0, subjectivity=0.0)\n",
      "RT Bollywood hypocrisy So i bycottbollywood\n",
      "Sentiment(polarity=0.0, subjectivity=0.0)\n",
      "bycottbollywood bycottsunnydeol bycottdharmendra KisanProtest KisanNahiRukega KisanRally kisanektazindabaad\n",
      "Sentiment(polarity=0.0, subjectivity=0.0)\n",
      "SSRian 4 Agencies Active MAH CBIEdNCBNIA bycottbollywood\n",
      "Sentiment(polarity=-0.13333333333333333, subjectivity=0.6)\n",
      "bycottbollywood Boycott Bollywood Support south Indian\n",
      "Sentiment(polarity=0.0, subjectivity=0.0)\n",
      "RT Why he dont go to Pak to get security from terrorist These people spoil our generation from 2000 to 14th June 202\n",
      "Sentiment(polarity=0.0, subjectivity=0.0)\n",
      "Bollywood hypocrisy So i bycottbollywood\n",
      "Sentiment(polarity=0.0, subjectivity=0.0)\n",
      "RT Why he dont go to Pak to get security from terrorist These people spoil our generation from 2000 to 14th June 202\n",
      "Sentiment(polarity=0.0, subjectivity=0.0)\n",
      "RT Why he dont go to Pak to get security from terrorist These people spoil our generation from 2000 to 14th June 202\n",
      "Sentiment(polarity=0.0, subjectivity=0.0)\n",
      "RT guild This is just a start days of the doom for the hindi cinema are nearer than eve\n",
      "Sentiment(polarity=0.0, subjectivity=0.0)\n",
      "Why he dont go to Pak to get security from terrorist These people spoil our generation from 2000 to 14th June\n",
      "Sentiment(polarity=0.0, subjectivity=0.0)\n",
      "Make records of dislikes for these hypocrites bycottbollywood BoycottCoolieNo1 boycottnepotism CoolieNo1\n",
      "Sentiment(polarity=0.0, subjectivity=0.0)\n",
      "Not interestedbycottbollywood\n",
      "Sentiment(polarity=0.0, subjectivity=0.0)\n",
      "bycottNetfilx this son of bitch foreign people bycottbollywood and these bollywood people they just trying to di\n",
      "Sentiment(polarity=-0.125, subjectivity=0.125)\n",
      "good name for druggies saras movie druggiessaraAliKhan bycottbollywood\n",
      "Sentiment(polarity=0.7, subjectivity=0.6000000000000001)\n",
      "WHO KILLED SSR CBINameSSRKillers PakTerrorState bycottbollywood\n",
      "Sentiment(polarity=-0.2, subjectivity=0.0)\n",
      "HAR HAR MAHADEV Now No Time 4Them BycottBollywood PROMOTESOUTHMOVIES BycottIndooKiJawaani\n",
      "Sentiment(polarity=0.0, subjectivity=0.0)\n",
      "Complete boycott of druggiewood bycottbollywood CBINameSSRKillers\n",
      "Sentiment(polarity=0.1, subjectivity=0.4)\n",
      "This life afer bullywood has become charsiwood Good job lalli These people behind screen are t\n",
      "Sentiment(polarity=0.14999999999999997, subjectivity=0.65)\n",
      "I want to ask Bollywood why your gyan always come when there is Indian festivals Why in your wedding crackers us\n",
      "Sentiment(polarity=0.0, subjectivity=0.0)\n",
      "HAR HAR MAHADEV No Time 4BollywoodMovies Now BycottBollywood BycottBollywoodDrugies\n",
      "Sentiment(polarity=0.0, subjectivity=0.0)\n",
      "HAR HAR MAHADEV Now No Time 4BollywoodDruggies GangMembers Movies n News BycottBollywood\n",
      "Sentiment(polarity=0.0, subjectivity=0.0)\n",
      "RT Everyone know who is the culprits All evidence are on public domain CBI only need to tell to SSRian officially\n",
      "Sentiment(polarity=0.0, subjectivity=0.5333333333333333)\n",
      "RT Everyone know who is the culprits All evidence are on public domain CBI only need to tell to SSRian officially\n",
      "Sentiment(polarity=0.0, subjectivity=0.5333333333333333)\n",
      "Everyone know who is the culprits All evidence are on public domain CBI only need to tell to SSRian officia\n",
      "Sentiment(polarity=0.0, subjectivity=0.5333333333333333)\n",
      "RT Help Some Poor Needy Person Instead Watching Durgamati BycottBollywood BycottDurgamati BhushanKumar\n",
      "Sentiment(polarity=-0.4, subjectivity=0.6)\n",
      "RT shomil com HAR HAR MAHADEV Its Bloody Trick 2B in Limelight No One even Remember This Bloody Bitch Name Anymore\n",
      "Sentiment(polarity=-0.8, subjectivity=0.9)\n",
      "com HAR HAR MAHADEV Its Bloody Trick 2B in Limelight No One even Remember This Bloody Bitch Name Anym\n",
      "Sentiment(polarity=-0.8, subjectivity=0.9)\n",
      "Help Some Poor Needy Person Instead Watching Durgamati BycottBollywood BycottDurgamati BhushanKumar\n",
      "Sentiment(polarity=-0.4, subjectivity=0.6)\n",
      "HAR HAR MAHADEV Now its Peak Time 2 PROMOTESOUTHMOVIES BycottBollywood\n",
      "Sentiment(polarity=0.0, subjectivity=0.0)\n",
      "Dislike Copywood Cowards in real life BhumiPednekar SSRDishaAwaitsJustice bycottbollywood\n",
      "Sentiment(polarity=0.2, subjectivity=0.30000000000000004)\n",
      "HAR HAR MAHADEV Now Entire World is Bycotting Bloody BollywoodDruggies Now\n",
      "Sentiment(polarity=-0.4, subjectivity=0.7625)\n",
      "RT Sir ji its not that easy all evidence against him on public domain but why still he is free EconomyRising SSRDi\n",
      "Sentiment(polarity=0.2777777777777778, subjectivity=0.5666666666666668)\n",
      "Sir ji its not that easy all evidence against him on public domain but why still he is free EconomyRising\n",
      "Sentiment(polarity=0.2777777777777778, subjectivity=0.5666666666666668)\n",
      "lovejihaad bycottbollywood bycottNetfilx love jihad promoter get out from India to canada u ha\n",
      "Sentiment(polarity=0.5, subjectivity=0.6)\n",
      "Coolie No1 29k like 11k dislikes We will win the war bycottbollywood SSRDeservesJustice SSRians Official Trai\n",
      "Sentiment(polarity=0.8, subjectivity=0.4)\n",
      "Remember this peoples are vultures SaraAliKhan bycottbollywood\n",
      "Sentiment(polarity=0.0, subjectivity=0.0)\n",
      "IndooKiJawaniTrailer WTF is Bollywood hell bent on presenting pakistanis as innocent To hell with these bigots\n",
      "Sentiment(polarity=0.0, subjectivity=0.85)\n",
      "bycottzomato bycottbollywood Lets order from swiggy and boycott the facists And their Masters\n",
      "Sentiment(polarity=0.0, subjectivity=0.0)\n"
     ]
    }
   ],
   "source": [
    "for tweet in tweets:\n",
    "    real_tweet = remove_url(cleanTweet(tweet.text))\n",
    "    print(real_tweet)\n",
    "    analysis = TextBlob(real_tweet)\n",
    "    print(analysis.sentiment)\n",
    "    polarity += analysis.sentiment.polarity\n",
    "    if (analysis.sentiment.polarity == 0):  # adding reaction of how people are reacting to find average later\n",
    "        neutral += 1\n",
    "    elif (analysis.sentiment.polarity > 0 and analysis.sentiment.polarity <= 0.3):\n",
    "        wpositive += 1\n",
    "    elif (analysis.sentiment.polarity > 0.3 and analysis.sentiment.polarity <= 0.6):\n",
    "        positive += 1\n",
    "    elif (analysis.sentiment.polarity > 0.6 and analysis.sentiment.polarity <= 1):\n",
    "        spositive += 1\n",
    "    elif (analysis.sentiment.polarity > -0.3 and analysis.sentiment.polarity <= 0):\n",
    "        wnegative += 1\n",
    "    elif (analysis.sentiment.polarity > -0.6 and analysis.sentiment.polarity <= -0.3):\n",
    "        negative += 1\n",
    "    elif (analysis.sentiment.polarity > -1 and analysis.sentiment.polarity <= -0.6):\n",
    "        snegative += 1\n"
   ]
  },
  {
   "cell_type": "code",
   "execution_count": 144,
   "metadata": {},
   "outputs": [],
   "source": [
    "positive = percentage(positive, NoOfTerms)\n",
    "wpositive = percentage(wpositive, NoOfTerms)\n",
    "spositive = percentage(spositive, NoOfTerms)\n",
    "negative = percentage(negative, NoOfTerms)\n",
    "wnegative = percentage(wnegative, NoOfTerms)\n",
    "snegative = percentage(snegative, NoOfTerms)\n",
    "neutral = percentage(neutral, NoOfTerms)\n",
    "polarity = polarity / NoOfTerms"
   ]
  },
  {
   "cell_type": "code",
   "execution_count": 145,
   "metadata": {},
   "outputs": [
    {
     "name": "stdout",
     "output_type": "stream",
     "text": [
      "How people are reacting on #BycottBollywood by analyzing 50 tweets.\n",
      "\n",
      "General Report: \n",
      "Weakly Negative\n",
      "\n",
      "Detailed Report: \n",
      "4.00% people thought it was positive\n",
      "10.00% people thought it was weakly positive\n",
      "4.00% people thought it was strongly positive\n",
      "6.00% people thought it was negative\n",
      "10.00% people thought it was weakly negative\n",
      "4.00% people thought it was strongly negative\n",
      "62.00% people thought it was neutral\n"
     ]
    },
    {
     "data": {
      "image/png": "[encoded data removed]",
      "text/plain": [
       "<Figure size 432x288 with 1 Axes>"
      ]
     },
     "metadata": {},
     "output_type": "display_data"
    }
   ],
   "source": [
    "print(\"How people are reacting on \" + searchTerm + \" by analyzing \" + str(NoOfTerms) + \" tweets.\")\n",
    "print()\n",
    "\n",
    "print(\"General Report: \")\n",
    "\n",
    "if (polarity == 0):\n",
    "    print(\"Neutral\")\n",
    "elif (polarity > 0 and polarity <= 0.3):\n",
    "    print(\"Weakly Positive\")\n",
    "elif (polarity > 0.3 and polarity <= 0.6):\n",
    "    print(\"Positive\")\n",
    "elif (polarity > 0.6 and polarity <= 1):\n",
    "    print(\"Strongly Positive\")\n",
    "elif (polarity > -0.3 and polarity <= 0):\n",
    "    print(\"Weakly Negative\")\n",
    "elif (polarity > -0.6 and polarity <= -0.3):\n",
    "    print(\"Negative\")\n",
    "elif (polarity > -1 and polarity <= -0.6):\n",
    "    print(\"Strongly Negative\")\n",
    "\n",
    "print()\n",
    "print(\"Detailed Report: \")\n",
    "print(str(positive) + \"% people thought it was positive\")\n",
    "print(str(wpositive) + \"% people thought it was weakly positive\")\n",
    "print(str(spositive) + \"% people thought it was strongly positive\")\n",
    "print(str(negative) + \"% people thought it was negative\")\n",
    "print(str(wnegative) + \"% people thought it was weakly negative\")\n",
    "print(str(snegative) + \"% people thought it was strongly negative\")\n",
    "print(str(neutral) + \"% people thought it was neutral\")\n",
    "\n",
    "plotPieChart(positive, wpositive, spositive, negative, wnegative, snegative, neutral, searchTerm, NoOfTerms)"
   ]
  },
  {
   "cell_type": "code",
   "execution_count": 122,
   "metadata": {},
   "outputs": [
    {
     "name": "stdout",
     "output_type": "stream",
     "text": [
      "Sentiment(polarity=-0.625, subjectivity=1.0)\n"
     ]
    }
   ],
   "source": [
    "real_tweet = \"I feel bored today!\"\n",
    "analysis = TextBlob(real_tweet)\n",
    "print(analysis.sentiment)"
   ]
  },
  {
   "cell_type": "code",
   "execution_count": null,
   "metadata": {},
   "outputs": [],
   "source": [
    "Dear students.. \n",
    "From nov 30, BGD lab project review 2 will be there. \n",
    "Make sure to present below contents. \n",
    "\n",
    "1. Problem statement. \n",
    "2. Literature survey from sources referred. \n",
    "3. Requirements: Hardware and software. \n",
    "4. Algorithm followed to implement it.\n",
    "5. Data set considered. \n",
    "6. Expected output. \n",
    "7. Conclusion. \n",
    "\n",
    "All these should be in the presentation.\n",
    "Timetable will be shared shortly."
   ]
  }
 ],
 "metadata": {
  "kernelspec": {
   "display_name": "Python 3",
   "language": "python",
   "name": "python3"
  },
  "language_info": {
   "codemirror_mode": {
    "name": "ipython",
    "version": 3
   },
   "file_extension": ".py",
   "mimetype": "text/x-python",
   "name": "python",
   "nbconvert_exporter": "python",
   "pygments_lexer": "ipython3",
   "version": "3.8.3"
  }
 },
 "nbformat": 4,
 "nbformat_minor": 4
}
